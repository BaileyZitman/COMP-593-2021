{
  "nbformat": 4,
  "nbformat_minor": 0,
  "metadata": {
    "colab": {
      "name": "WEEK 4 ADVANCED SQL AND FILES",
      "provenance": [],
      "toc_visible": true,
      "include_colab_link": true
    },
    "kernelspec": {
      "name": "python3",
      "display_name": "Python 3"
    }
  },
  "cells": [
    {
      "cell_type": "markdown",
      "metadata": {
        "id": "view-in-github",
        "colab_type": "text"
      },
      "source": [
        "<a href=\"https://colab.research.google.com/github/BaileyZitman/COMP-593-2021/blob/week%2Ffour-writing-files/WEEK_4_ADVANCED_SQL_AND_FILES.ipynb\" target=\"_parent\"><img src=\"https://colab.research.google.com/assets/colab-badge.svg\" alt=\"Open In Colab\"/></a>"
      ]
    },
    {
      "cell_type": "markdown",
      "metadata": {
        "id": "jtmWSsdu7sGV"
      },
      "source": [
        "# Lab 4 - Advanced SQL / Writing Files\r\n",
        "\r\n",
        "In this week's lab, we are going to expand our Really Simple Social Network by adding another table that will record connections between people! Because after all, what good is a social network if you can't ... be social?\r\n",
        "\r\n",
        "Afterwards, we will be in a good position to run a report on the data, and then we can sell it to marketers for a massive profit! Isn't it great how few people read the terms of service? `/s`"
      ]
    },
    {
      "cell_type": "markdown",
      "metadata": {
        "id": "u_jgOruj82au"
      },
      "source": [
        "## Importing our database\r\n",
        "Since we are using a new colab notebook, we will need to reimport our database. Check your D2L Submission if you didn't keep a copy, you should be able to redownload it there. Run the below code block and the file upload picker will appear, after uploading your Database file, check that it appears in the `Files` tab of colab.\r\n",
        "\r\n",
        "Remember that you may need to update the listings before it will appear."
      ]
    },
    {
      "cell_type": "code",
      "metadata": {
        "id": "8IIOmhjf7GoX",
        "colab": {
          "resources": {
            "http://localhost:8080/nbextensions/google.colab/files.js": {
              "data": "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",
              "ok": true,
              "headers": [
                [
                  "content-type",
                  "application/javascript"
                ]
              ],
              "status": 200,
              "status_text": ""
            }
          },
          "base_uri": "https://localhost:8080/",
          "height": 73
        },
        "outputId": "948f59e7-285b-47a2-e4bd-b7ccc150659e"
      },
      "source": [
        "from google.colab import files\r\n",
        "uploaded = files.upload()\r\n"
      ],
      "execution_count": 107,
      "outputs": [
        {
          "output_type": "display_data",
          "data": {
            "text/html": [
              "\n",
              "     <input type=\"file\" id=\"files-1a37fadf-90af-459e-b05e-003b887d1b43\" name=\"files[]\" multiple disabled\n",
              "        style=\"border:none\" />\n",
              "     <output id=\"result-1a37fadf-90af-459e-b05e-003b887d1b43\">\n",
              "      Upload widget is only available when the cell has been executed in the\n",
              "      current browser session. Please rerun this cell to enable.\n",
              "      </output>\n",
              "      <script src=\"/nbextensions/google.colab/files.js\"></script> "
            ],
            "text/plain": [
              "<IPython.core.display.HTML object>"
            ]
          },
          "metadata": {
            "tags": []
          }
        },
        {
          "output_type": "stream",
          "text": [
            "Saving social_network.db to social_network.db\n"
          ],
          "name": "stdout"
        }
      ]
    },
    {
      "cell_type": "markdown",
      "metadata": {
        "id": "Niw3IKvx-034"
      },
      "source": [
        "## Creating our relationship table\r\n",
        "\r\n",
        "In the code block below, we will be creating a new table in our database for `relationships` with the following parameters:\r\n",
        "\r\n",
        "\r\n",
        "1.   A primary key column called `id` with the `INTEGER` datatype that is `NOT NULL`\r\n",
        "2.   A foreign key column called `user_id` that links to the `id` column of the `people` table with the `INTEGER` datatype that is `NOT NULL`\r\n",
        "3.   Another foreign key column called `friend_id` that also links to the `id` column of the `people` table with the `INTEGER` datatype that is `NOT NULL`\r\n",
        "4.   A `date_created` table with the `DATE` datatype that is `NOT NULL`\r\n",
        "\r\n",
        "The Below codeblock will get you started:\r\n",
        "\r\n"
      ]
    },
    {
      "cell_type": "code",
      "metadata": {
        "id": "P2btKpXsANBX"
      },
      "source": [
        "import sqlite3\r\n",
        "\r\n",
        "#Retreive the Connection object, rename the file to match your uploaded DB if necessary.\r\n",
        "myConnection = sqlite3.connect('social_network.db')\r\n",
        "\r\n",
        "#Once we have a Connection object, we can generate a Cursor object, and use that to run our SQL Queries\r\n",
        "myCursor = myConnection.cursor()\r\n",
        "\r\n",
        "#The Primary Key column has been provided for you,\r\n",
        "#Replace '#!...' with the remaining column names, datatypes, and foreign key declarations.\r\n",
        "#Use the Lecture notes and the previous lab if you are unsure.\r\n",
        "createRelationshipsTable = \"\"\"CREATE TABLE IF NOT EXISTS relationships (\r\n",
        "                          id integer NOT NULL,\r\n",
        "                          user_id integer NOT NULL,\r\n",
        "                          friend_id integer NOT NULL,\r\n",
        "                          date_created date NOT NULL,\r\n",
        "                          PRIMARY KEY(id), \r\n",
        "                          FOREIGN KEY(user_id) REFERENCES people(id),\r\n",
        "                          FOREIGN KEY(friend_id) REFERENCES people(id)\r\n",
        "                        );\"\"\"\r\n",
        "\r\n",
        "#Once again, we will execute the query, persist the changes, and close our connection.\r\n",
        "myCursor.execute(createRelationshipsTable)\r\n",
        "myConnection.commit()\r\n",
        "myConnection.close()"
      ],
      "execution_count": 108,
      "outputs": []
    },
    {
      "cell_type": "markdown",
      "metadata": {
        "id": "AQ4tDbnaBPpD"
      },
      "source": [
        "## Populating Relationship Data\r\n",
        "\r\n",
        "We're not going to be picky about who knows who - so for the purposes of this lab, we're going to use our own version of an AI matchmaker, the `randrange()` method.\r\n",
        "\r\n",
        "Complete the below codeblock, inserting 1000 new rows into the relationships table.\r\n",
        "Use a random number between `1 - 1000` for the `user_id` and `friend_id` columns. This will link up to the `id` column of the `people` table and effectivly simulate a random network of relationships.\r\n",
        "\r\n",
        "The below code block is purposely sparse, as you should be able to use the patterns you've identified in the previous lab to complete this task."
      ]
    },
    {
      "cell_type": "code",
      "metadata": {
        "id": "XL7ho2tJCTBG"
      },
      "source": [
        "import sqlite3\r\n",
        "from datetime import datetime #For generating dates and times\r\n",
        "from random import randrange #For generating random numbers within a range\r\n",
        "\r\n",
        "#Retreive the Connection object, rename the file to match your uploaded DB if necessary.\r\n",
        "myConnection = sqlite3.connect('social_network.db')\r\n",
        "\r\n",
        "#Once we have a Connection object, we can generate a Cursor object, and use that to run our SQL Queries\r\n",
        "myCursor = myConnection.cursor()\r\n",
        "\r\n",
        "#Complete the below query\r\n",
        "query =  \"\"\"INSERT INTO relationships(\r\n",
        "              user_id,\r\n",
        "              friend_id,\r\n",
        "              date_created)\r\n",
        "            VALUES (?, ?, ?);\"\"\"\r\n",
        "\r\n",
        "for _ in range(1000):\r\n",
        "  #Populate the arguments that will be used in the query\r\n",
        "  args = (  randrange(1,1000), \r\n",
        "            randrange(1,1000),\r\n",
        "            datetime.now())\r\n",
        "  #Execute the query\r\n",
        "  myCursor.execute(query, args)\r\n",
        "\r\n",
        "#Commit your changes and close the connection.\r\n",
        "myConnection.commit()\r\n",
        "myConnection.close()\r\n"
      ],
      "execution_count": 109,
      "outputs": []
    },
    {
      "cell_type": "markdown",
      "metadata": {
        "id": "qqZLm-E0E2AV"
      },
      "source": [
        "## Building our Report\r\n",
        "\r\n",
        "Now that our AI Matchmaker has generated our network of relationships, a marketing firm is offering us boatloads of cash for information about the amount of friends the users of our social network have.\r\n",
        "\r\n",
        "The request is to return the name of each user, and the total number of relationships they have made.\r\n",
        "\r\n",
        "If this was explained in awkward pseudo code, it might go something like this:\r\n",
        "```\r\n",
        "SELECT all relationships\r\n",
        "JOIN them to the people they belong to\r\n",
        "GROUP the results by the person's ID\r\n",
        "return the person's name and COUNT of their relationships\r\n",
        "```\r\n",
        "\r\n",
        "After you have collected the data, you will need to write it to a `.txt` file. \r\n",
        "\r\n",
        "**Your submission will include the report `.txt` file, the copy of your updated `social_network.db` file, and a link to the colab notebook.**\r\n",
        "\r\n",
        "Look at the aggregate functions from Week 3 and the Join examples from Week 4. There are a few different ways that you can structure a query to reach the correct answer.\r\n",
        "\r\n",
        "**At a minimum, you will need to use a `LEFT JOIN` statement, a `GROUP BY` statement, and a `COUNT()` aggregate function.**\r\n",
        "\r\n",
        "The below code block will get you started:"
      ]
    },
    {
      "cell_type": "code",
      "metadata": {
        "id": "0OvhhCMKGkU3",
        "colab": {
          "base_uri": "https://localhost:8080/"
        },
        "outputId": "f0638c2b-690d-48f1-d4ca-469408f32e16"
      },
      "source": [
        "import sqlite3\r\n",
        "\r\n",
        "\r\n",
        "#Retreive the Connection object, rename the file to match your uploaded DB if necessary.\r\n",
        "myConnection = sqlite3.connect('social_network.db')\r\n",
        "\r\n",
        "#Once we have a Connection object, we can generate a Cursor object, and use that to run our SQL Queries\r\n",
        "myCursor = myConnection.cursor()\r\n",
        "\r\n",
        "#Uncomment the below line after you have determined what the correct mode will be for your file pointer.\r\n",
        "fp = open('report.txt', mode='w') #for this lab i found \"w\" (write) would be the best option because it will overide the data with more up to date information. appending it is good to see the difference but it would be to complicated output. it will create a file if one doesnt exist.\r\n",
        "\r\n",
        "#Complete the below query\r\n",
        "query =  \"\"\"SELECT name ,COUNT(friend_id) FROM relationships\r\n",
        "              LEFT JOIN people\r\n",
        "                ON people.id = relationships.user_id\r\n",
        "              GROUP BY user_id\r\n",
        "              ORDER BY COUNT(friend_id) DESC\r\n",
        "         \"\"\"\r\n",
        "\r\n",
        "myCursor.execute(query)\r\n",
        "results = myCursor.fetchall()\r\n",
        "\r\n",
        "fp.write(\"This report contains information pulled from our databases. It provides information on the number of relationships and/or friendships for 1000 users\\n\\n\")\r\n",
        "counter = 0\r\n",
        "for i in results:\r\n",
        "  fp.write( \"The user {name} has {count} relationship(s) and/or friendship(s)\\n\".format(name=results[counter][0],count=results[counter][1]))\r\n",
        "  counter += 1\r\n",
        "\r\n",
        "print(results)\r\n",
        "\r\n",
        "#for result in results:\r\n",
        "  #You will want to write the results to the file pointer here.\r\n",
        "  #Use the newline character \\n to create a line break in each write() statement.\r\n",
        "  #Use print() statements as sanity checks if you are unsure of the integrity of your data.\r\n",
        "\r\n",
        "#Don't forget to close the file pointer after you have finished!\r\n",
        "\r\n",
        "fp.close()"
      ],
      "execution_count": 110,
      "outputs": [
        {
          "output_type": "stream",
          "text": [
            "[('Jennifer Hines', 5), ('Jody Kelly', 5), ('Paul Lindsey', 5), ('Jesse Ford', 4), ('Blake Berry', 4), ('Cheryl Gregory', 4), ('Angela Middleton', 4), ('Allison Ray', 4), ('Bianca Jenkins', 4), ('Tonya Perez', 4), ('Gail Swanson', 4), ('Stacey Smith', 4), ('Jay Day', 4), ('Ryan Jones', 4), ('Lisa Rogers', 4), ('Cheyenne Wright', 4), ('Deborah Gilbert', 4), ('Emily Williams', 4), ('Marcus Bryant', 3), ('Ronald Jennings', 3), ('Veronica Jones', 3), ('Marvin Horne', 3), ('Colleen Coffey', 3), ('Amy Adams', 3), ('Gerald Butler', 3), ('Raymond Johnson', 3), ('Blake Tran', 3), ('Carrie Burgess', 3), ('Jacob Durham', 3), ('Brittney Walker', 3), ('David Juarez', 3), ('Ryan Hamilton', 3), ('Vicki Garcia', 3), ('Brian Warren', 3), ('Chase Mccullough', 3), ('Mary Robinson', 3), ('Laurie Rivers', 3), ('Ryan Larson', 3), ('Anna Johnson', 3), ('Haley Yoder', 3), ('Sheena Robinson', 3), ('Glenn Horn', 3), ('Frank Best', 3), ('Pamela Kim', 3), ('Kimberly Maldonado', 3), ('Christopher Garcia', 3), ('Tiffany Diaz', 3), ('Joshua Pittman', 3), ('Michael Ortiz', 3), ('Katelyn Griffin', 3), ('Jill Ortiz', 3), ('Rachel Nunez', 3), ('Madison Newman', 3), ('Ashley Hansen', 3), ('Curtis Sandoval', 3), ('Heather Khan', 3), ('Melinda Brooks', 3), ('Emily Douglas', 3), ('Nicole Campbell', 3), ('Jill Valenzuela', 3), ('Thomas Martin', 3), ('Jason Garrison', 3), ('Kelly King', 3), ('David Romero', 3), ('Nancy Barr', 3), ('Ashley Nelson', 3), ('David Jones', 3), ('Alexandra Kelly', 3), ('Steve Garcia', 3), ('Alan Richards', 3), ('Valerie Hughes', 3), ('Joshua Rhodes', 3), ('Claire Hardy', 3), ('Nicole Davis', 3), ('Stephen Hughes', 3), ('Michelle Cruz', 3), ('Vanessa Shaw', 3), ('Nathaniel Brock', 3), ('Brian Branch', 3), ('Linda Garcia', 3), ('Jonathan Lewis', 3), ('Tonya Douglas', 3), ('Valerie Henderson', 3), ('Stephanie Weaver', 3), ('Janice Kelly', 3), ('Kathryn Crawford', 3), ('Laura Johnson', 2), ('Angelica Grant', 2), ('Laura Mason', 2), ('Jerome Thomas', 2), ('Amanda Davis', 2), ('Alan Peterson', 2), ('Michael Cherry', 2), ('James Miller', 2), ('Bobby Snyder', 2), ('Mr. Derek Johnston MD', 2), ('Patricia Owens', 2), ('Jillian Roberts', 2), ('Natasha Campbell', 2), ('Kenneth Williams', 2), ('Jacqueline Ayers', 2), ('Charles Patterson', 2), ('Jennifer Torres', 2), ('Matthew Lopez', 2), ('Jason Mann', 2), ('Eddie Martin', 2), ('Lisa Mathis', 2), ('Vincent Garcia', 2), ('Christopher Simon', 2), ('John Kerr', 2), ('Ronald Willis', 2), ('Alexis Hunt', 2), ('Steve Lawrence', 2), ('Stephen Kennedy', 2), ('Christina Bryant', 2), ('Thomas Martin', 2), ('Benjamin Kim', 2), ('Anthony Velasquez', 2), ('Tina Davis', 2), ('Troy Payne', 2), ('Anthony Young', 2), ('Brett Franco', 2), ('Donna Banks', 2), ('Joshua Rodriguez', 2), ('Rebecca Rivera', 2), ('Sherri Sexton', 2), ('Clayton Miranda', 2), ('John Obrien', 2), ('Christopher Reid', 2), ('Amanda Ayers', 2), ('Kelly Christensen', 2), ('Laura Holmes', 2), ('Zachary Mitchell', 2), ('John Baker', 2), ('Stephanie Hawkins', 2), ('Mark Mills', 2), ('Gina Smith', 2), ('Amy Davidson', 2), ('Lisa Jones', 2), ('Jillian Kim', 2), ('Kimberly Zamora', 2), ('Colleen Henry', 2), ('Sheila Lee', 2), ('Ryan Choi', 2), ('Juan Alvarez', 2), ('Brandon Cooper', 2), ('Vanessa Summers', 2), ('Stacie Munoz', 2), ('Sharon Gould', 2), ('Benjamin Weeks', 2), ('Susan Burns', 2), ('Jennifer Hogan', 2), ('Toni Smith', 2), ('Jason Davila', 2), ('Samuel Smith', 2), ('Jacqueline Webb', 2), ('Kristin Boyd', 2), ('Micheal Williamson', 2), ('Sarah Johnson', 2), ('Chelsea Nixon', 2), ('Brandon Brooks', 2), ('Todd Taylor', 2), ('Richard Williams', 2), ('Christopher Ruiz', 2), ('Shawn Cunningham II', 2), ('Jill Hayes', 2), ('Wendy Barrera', 2), ('Heather Russell', 2), ('Carrie Roberts', 2), ('Olivia Williams', 2), ('Stephanie Ross', 2), ('Kathryn Torres', 2), ('Eric Griffin', 2), ('Nichole Howard', 2), ('Lauren Smith', 2), ('Lori Goodwin DVM', 2), ('Gregory Austin', 2), ('Molly Jones', 2), ('Eric Russell', 2), ('Anthony Thomas', 2), ('Caroline Brown', 2), ('James Travis', 2), ('Tara Hall', 2), ('Gina Armstrong', 2), ('Dustin Rhodes', 2), ('Seth Wood', 2), ('Rebecca Walters', 2), ('Sergio Carter', 2), ('Sharon Norman', 2), ('Nicholas Collins', 2), ('Lorraine White', 2), ('Becky Hunter', 2), ('Mark Rodriguez', 2), ('Geoffrey Scott', 2), ('Pamela Cole', 2), ('Andrew Pittman', 2), ('Melissa Tapia', 2), ('Bethany Torres', 2), ('Joshua Francis', 2), ('Stephanie Reed', 2), ('Stacy Tran', 2), ('Tami Warren', 2), ('Michael Schroeder', 2), ('Kimberly Coleman', 2), ('Adam Ellis', 2), ('Michael Hayes', 2), ('Charles Flores', 2), ('Taylor Morrow', 2), ('Shawn Knight', 2), ('Dustin Davis', 2), ('Allen Hogan', 2), ('David Jones', 2), ('April Stewart', 2), ('Tanya Stewart', 2), ('Chad Jackson', 2), ('Scott Brown', 2), ('Jessica Ibarra', 2), ('Erin Watson', 2), ('Maria Gibbs', 2), ('Joanne Johnston', 2), ('Megan Morris', 2), ('Rita Rivas', 2), ('Drew Dickerson', 2), ('Stephanie Johnson', 2), ('Brenda Murphy', 2), ('Grace Jones', 2), ('Emily Williams', 2), ('Jaime Melendez', 2), ('Mrs. Natalie Pineda', 2), ('Jonathan Sanchez', 2), ('Joseph Lambert', 2), ('Joseph Shaw', 2), ('Maria Blanchard', 2), ('Amanda Warren', 2), ('Terry Rangel', 2), ('Brenda Todd', 2), ('Shelly Henry', 2), ('Aaron Avila', 2), ('Logan Young', 2), ('Paul Vaughn', 2), ('Krystal Owens', 2), ('Amanda Black', 2), ('Travis Barnes', 2), ('Leonard Dillon', 2), ('James Martinez', 2), ('Adam Williams', 2), ('Jeffrey Graham', 2), ('Jenna Miller', 2), ('Jenna Price', 2), ('Douglas Jones', 2), ('Joshua Kennedy', 2), ('Justin Williams', 2), ('Michael James', 2), ('Garrett Rodriguez', 2), ('Darren Foster', 2), ('Mark Vaughn', 2), ('Mrs. Cheryl Ware', 2), ('Andrew Martin', 2), ('Amy Marsh', 1), ('Michael Haynes', 1), ('Luke Castillo', 1), ('David Moore', 1), ('Matthew Moore', 1), ('Kyle Lowe', 1), ('Shawn Hart', 1), ('Danielle Ortiz', 1), ('David Mason', 1), ('Jesse Lamb', 1), ('Brenda Williams', 1), ('Kellie Moore', 1), ('Leah Brown', 1), ('Jeffrey West', 1), ('Alexis Smith', 1), ('Mark Harris', 1), ('Austin King', 1), ('Christopher Wallace', 1), ('Sheila Morales', 1), ('Nicole Jackson', 1), ('Andrew Murphy', 1), ('Joshua Warren', 1), ('Douglas Henderson', 1), ('Catherine Wright', 1), ('Mr. Robert Miller', 1), ('Allen Gonzalez', 1), ('Cynthia Curtis', 1), ('Denise Branch', 1), ('Edwin Best', 1), ('Mr. Andrew Stevens', 1), ('Christina Castillo', 1), ('Diane Diaz', 1), ('Kevin Lin', 1), ('David Guzman', 1), ('Kelly Espinoza', 1), ('Walter Novak', 1), ('Kyle Ryan', 1), ('Elizabeth Kennedy', 1), ('Jordan Olson', 1), ('Julie Wilson', 1), ('Ronald Hale', 1), ('Judy Boyd', 1), ('Rebecca White', 1), ('Amanda Bradford', 1), ('Joshua Pierce', 1), ('Leslie Nash', 1), ('Denise Wright', 1), ('Justin Adams', 1), ('Christopher Gilmore', 1), ('Lauren Davis', 1), ('Kelly Miller', 1), ('Brenda Holt', 1), ('Rhonda Riggs', 1), ('Gilbert Sanchez', 1), ('Katherine Roberts', 1), ('Kristi Hunt', 1), ('Barbara Johnson', 1), ('Jessica Austin', 1), ('Donald Johnson', 1), ('Jacqueline Black', 1), ('Sarah Gray', 1), ('Mrs. Angela Moyer', 1), ('Andrea Lopez', 1), ('Jasmine Thompson', 1), ('Brooke Santos', 1), ('Corey Horn', 1), ('Brandon Rodriguez', 1), ('Nancy Sullivan PhD', 1), ('Kyle Johnson', 1), ('Michael Baker', 1), ('Matthew Hunt', 1), ('Leslie Webb', 1), ('Terri Glass', 1), ('Michael Cline', 1), ('Kerri Chapman', 1), ('Brittany Brown', 1), ('Amy Hoffman', 1), ('Stephanie Ball', 1), ('Sabrina Murray', 1), ('Benjamin Kim', 1), ('Lisa Ortiz', 1), ('Gregory Cook', 1), ('Jason Phillips', 1), ('Allison Patel', 1), ('Theresa Rodriguez', 1), ('Randy Flowers', 1), ('Michael Rivera', 1), ('Michael Garner', 1), ('Jeremy Calderon', 1), ('Vicki Higgins', 1), ('Anthony Johnson', 1), ('Tina Ward', 1), ('Thomas Farley', 1), ('Dawn Guerrero', 1), ('Dorothy Miller', 1), ('Jeffrey Johnson', 1), ('Elizabeth Garcia', 1), ('Michael Martinez', 1), ('Kelly Johnson', 1), ('Cassandra Wilson', 1), ('Tyler Carr', 1), ('Gina Brown', 1), ('John Kemp', 1), ('Stephanie Bryant', 1), ('Tyrone Morton', 1), ('Matthew Kemp', 1), ('Marissa Moreno', 1), ('Douglas Armstrong', 1), ('Sean Rodriguez', 1), ('Lacey Mccormick', 1), ('Angela Lopez', 1), ('Bryan Duran', 1), ('Dennis Graham', 1), ('David Crawford', 1), ('Karen Lane', 1), ('Dr. Kimberly Cervantes', 1), ('Christopher Benton', 1), ('Brittany Hudson', 1), ('Edward Lewis', 1), ('Paul Vazquez', 1), ('Eric Bridges', 1), ('Martha Barker', 1), ('Lisa Johnson', 1), ('Darlene Banks', 1), ('Calvin Duncan', 1), ('Susan Jones', 1), ('Jessica Jackson', 1), ('Bonnie Perez', 1), ('Mark Hoffman', 1), ('Meredith May', 1), ('Michele Sandoval', 1), ('Christina Gutierrez', 1), ('Sophia Adams', 1), ('Perry Torres', 1), ('Nathaniel Johnson', 1), ('Mrs. Meghan Garner', 1), ('Joseph Stout', 1), ('Timothy House', 1), ('Amanda Johnson', 1), ('Beth Wagner', 1), ('Emily Roberts', 1), ('Christina Smith', 1), ('Robert Jones', 1), ('Rhonda Yang', 1), ('Christopher Stuart', 1), ('Ashley Sanchez', 1), ('Justin Perkins', 1), ('Marie Wade MD', 1), ('Gregory Diaz', 1), ('Keith Gillespie', 1), ('Sara Simmons', 1), ('Sierra Jones', 1), ('Sierra King', 1), ('Russell Lewis', 1), ('Carl Walker', 1), ('Andrew Bates', 1), ('Gary Thomas', 1), ('Corey Escobar', 1), ('Kiara Rivas', 1), ('Joseph Contreras', 1), ('Heidi Lopez', 1), ('Alicia Jones', 1), ('Michael Ortiz', 1), ('Julie Miller', 1), ('Megan Hawkins', 1), ('Elizabeth Patrick', 1), ('Natasha Weber', 1), ('Christine Aguirre', 1), ('Amber Meza', 1), ('James Lopez', 1), ('Timothy Mcmillan', 1), ('Cynthia Richards', 1), ('Nicholas Stewart', 1), ('Karen Hamilton', 1), ('Daniel Duncan', 1), ('Roger Page', 1), ('James White', 1), ('Misty Huber', 1), ('Mark Phelps', 1), ('Christina Rodriguez', 1), ('Christy Goodman', 1), ('Robert Neal', 1), ('Gary Bush', 1), ('Lori Matthews', 1), ('Ricardo Price', 1), ('Amber Mcmillan', 1), ('Ian Santiago', 1), ('Matthew Taylor', 1), ('Michael Shaffer', 1), ('Jillian Chen', 1), ('Ricky Wilkinson', 1), ('Rodney Lewis', 1), ('Rachel Bryant', 1), ('David Hoffman', 1), ('Michelle Cobb', 1), ('Jeremy Turner', 1), ('Steven Lee', 1), ('Brenda Schmitt', 1), ('Katrina Johnson', 1), ('Ashley Garcia', 1), ('Ryan Thomas', 1), ('Pamela Taylor', 1), ('Kimberly Larson', 1), ('Kara Roberts', 1), ('Eddie Sanders', 1), ('Amy Mann', 1), ('Nathaniel Higgins', 1), ('Deanna Garcia', 1), ('Ernest Fisher', 1), ('James Ashley', 1), ('Jose Singleton', 1), ('Sherry Hernandez', 1), ('James Jordan', 1), ('Laura Clark', 1), ('Patricia Mcdonald', 1), ('Kyle Griffin', 1), ('Mr. Richard Davis', 1), ('Mario Martinez', 1), ('Alexander Caldwell', 1), ('Melissa Rodriguez', 1), ('Bobby Holt', 1), ('Thomas Fox', 1), ('Barbara Rose', 1), ('Jamie Howard', 1), ('Thomas Moreno', 1), ('Michael Fleming', 1), ('Anne Cunningham', 1), ('Mary Jackson', 1), ('Joshua Adams', 1), ('Mrs. Jennifer Scott', 1), ('Keith Ruiz', 1), ('Jordan Yu', 1), ('Nicole Harding', 1), ('Christopher Hicks Jr.', 1), ('Laura Roberts', 1), ('Laura Roman', 1), ('Jason Cline', 1), ('Michelle White', 1), ('Rachel Green', 1), ('Michelle Perez', 1), ('Amber Bruce', 1), ('Jordan Harmon', 1), ('Eric Doyle', 1), ('Tanya Wright', 1), ('Daniel Jefferson', 1), ('Erin Morris', 1), ('Tony Wright', 1), ('Mary Beasley', 1), ('Stephen Sandoval', 1), ('Hunter Parker', 1), ('Benjamin Petty', 1), ('Brett Harrison', 1), ('Gregory Herring', 1), ('Dorothy Lee', 1), ('Benjamin Mckinney', 1), ('Sarah Daugherty', 1), ('Frank Taylor', 1), ('Vicki Frederick MD', 1), ('Christine Duarte', 1), ('Jason Hebert', 1), ('Tony Jefferson', 1), ('April Smith', 1), ('Megan Hill DDS', 1), ('David Williams', 1), ('Lawrence Perez', 1), ('Laura Carpenter', 1), ('Tracey Galvan', 1), ('William Pennington', 1), ('Nicole Fox', 1), ('Mark Hernandez', 1), ('Brittany Carter', 1), ('Mark Romero', 1), ('Paul Patterson', 1), ('Travis Bennett', 1), ('Christina Perry', 1), ('Laura Booth', 1), ('Meghan Moore', 1), ('Sheryl Bishop', 1), ('Rachel Nguyen', 1), ('Scott Brooks', 1), ('Christopher Calderon', 1), ('Justin Jenkins', 1), ('Paul Johnson', 1), ('Kelly Miller', 1), ('Kenneth Austin', 1), ('James Stewart', 1), ('Eric Jennings', 1), ('Lonnie Jones', 1), ('David Wood', 1), ('Richard Huerta', 1), ('Grace Bishop', 1), ('Paul Parks', 1), ('Briana Mckinney', 1), ('Rachel Tyler', 1), ('Cynthia Johnston', 1), ('Lee Peters', 1), ('Kevin Smith', 1), ('Darryl Dodson', 1), ('Taylor Torres', 1), ('Jeffrey Wright', 1), ('Sharon Hernandez', 1), ('Mrs. Barbara Campbell DDS', 1), ('Dominique White', 1), ('Marcus Parker', 1), ('Richard Wright', 1), ('Kelly Mccall', 1), ('Alfred Clark', 1), ('Francisco Combs', 1), ('Jacqueline Hodges', 1), ('Johnathan Henderson', 1), ('Michael Weeks', 1), ('Corey Jones', 1), ('Joy Smith', 1), ('William Lucas', 1), ('Meredith Lawson', 1), ('Deanna Brown', 1), ('Brooke Moody', 1), ('Andre Moore', 1), ('Zachary Hall', 1), ('Megan Calderon', 1), ('Hector Morales', 1), ('Sharon Stuart', 1), ('Sharon Drake', 1), ('Dominique Hall', 1), ('Dr. Melissa Smith', 1), ('Elaine Tran', 1), ('Troy Bauer', 1), ('Jamie Paul', 1), ('Pedro Doyle', 1), ('Mary Moore', 1), ('James Moreno', 1), ('Mr. Michael Hernandez', 1), ('Tiffany Reid', 1), ('Laurie Lyons', 1), ('Timothy Diaz', 1), ('Robert Gray', 1), ('Joshua Campos', 1), ('Rhonda Finley', 1), ('Kelly Mendoza', 1), ('Stephanie Stevens', 1), ('Erin Roach', 1), ('Jeffrey Walsh', 1), ('Christopher Miranda', 1), ('April Goodwin', 1), ('Cynthia Lara', 1), ('Pamela Harris', 1), ('Lisa Thomas', 1), ('Edward Lambert', 1), ('Kelly Foster', 1), ('Gregory Kaiser', 1), ('Scott Miller', 1), ('John Gonzales', 1), ('Blake Phillips', 1), ('Eric Atkinson', 1), ('Jose Downs', 1), ('Brandon Gates', 1), ('Amber Robinson', 1), ('Daniel Clarke', 1), ('Brianna Martinez', 1), ('Melissa Williamson', 1), ('Michelle Diaz', 1), ('Kurt Stafford', 1), ('Melissa Mitchell', 1), ('Ray Powers', 1), ('Raymond Flores', 1), ('Lisa Sanders', 1), ('Aaron Yoder', 1), ('Michelle French', 1), ('Gregory Salazar', 1), ('Alexander Reeves', 1), ('Joseph Castaneda', 1), ('Larry Thomas', 1), ('Joseph Garcia', 1), ('Dylan Miles', 1), ('Paul Porter', 1), ('Courtney Nelson', 1), ('Brittany Mclean', 1)]\n"
          ],
          "name": "stdout"
        }
      ]
    },
    {
      "cell_type": "markdown",
      "metadata": {
        "id": "mySkq1HNmgXU"
      },
      "source": [
        ""
      ]
    },
    {
      "cell_type": "markdown",
      "metadata": {
        "id": "uhxqLV4TNnjA"
      },
      "source": [
        "### Challenge: Write a CSV file\r\n",
        "\r\n",
        "**This challenge isn't for extra marks, it's an opportunity for you to engage in some self guided discovery, only if you feel like it, and only if you have time.**\r\n",
        "\r\n",
        "If you want to challenge yourself, alter the report so that it conforms with the `.csv` file type. There are a number of ways to do this, you can use the `Pandas` module, the `csv` module, or manually."
      ]
    }
  ]
}