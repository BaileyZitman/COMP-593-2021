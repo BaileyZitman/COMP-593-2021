{
  "nbformat": 4,
  "nbformat_minor": 0,
  "metadata": {
    "colab": {
      "name": "WEEK 4 ADVANCED SQL AND FILES",
      "provenance": [],
      "toc_visible": true,
      "include_colab_link": true
    },
    "kernelspec": {
      "name": "python3",
      "display_name": "Python 3"
    }
  },
  "cells": [
    {
      "cell_type": "markdown",
      "metadata": {
        "id": "view-in-github",
        "colab_type": "text"
      },
      "source": [
        "<a href=\"https://colab.research.google.com/github/BaileyZitman/COMP-593-2021/blob/week%2Ffour-writing-files/WEEK_4_ADVANCED_SQL_AND_FILES.ipynb\" target=\"_parent\"><img src=\"https://colab.research.google.com/assets/colab-badge.svg\" alt=\"Open In Colab\"/></a>"
      ]
    },
    {
      "cell_type": "markdown",
      "metadata": {
        "id": "jtmWSsdu7sGV"
      },
      "source": [
        "# Lab 4 - Advanced SQL / Writing Files\r\n",
        "\r\n",
        "In this week's lab, we are going to expand our Really Simple Social Network by adding another table that will record connections between people! Because after all, what good is a social network if you can't ... be social?\r\n",
        "\r\n",
        "Afterwards, we will be in a good position to run a report on the data, and then we can sell it to marketers for a massive profit! Isn't it great how few people read the terms of service? `/s`"
      ]
    },
    {
      "cell_type": "markdown",
      "metadata": {
        "id": "u_jgOruj82au"
      },
      "source": [
        "## Importing our database\r\n",
        "Since we are using a new colab notebook, we will need to reimport our database. Check your D2L Submission if you didn't keep a copy, you should be able to redownload it there. Run the below code block and the file upload picker will appear, after uploading your Database file, check that it appears in the `Files` tab of colab.\r\n",
        "\r\n",
        "Remember that you may need to update the listings before it will appear."
      ]
    },
    {
      "cell_type": "code",
      "metadata": {
        "id": "8IIOmhjf7GoX",
        "colab": {
          "resources": {
            "http://localhost:8080/nbextensions/google.colab/files.js": {
              "data": "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",
              "ok": true,
              "headers": [
                [
                  "content-type",
                  "application/javascript"
                ]
              ],
              "status": 200,
              "status_text": ""
            }
          },
          "base_uri": "https://localhost:8080/",
          "height": 73
        },
        "outputId": "c698dc53-f5a5-4918-f9e3-8021766e3a75"
      },
      "source": [
        "from google.colab import files\r\n",
        "uploaded = files.upload()\r\n"
      ],
      "execution_count": null,
      "outputs": [
        {
          "output_type": "display_data",
          "data": {
            "text/html": [
              "\n",
              "     <input type=\"file\" id=\"files-fac36539-0faf-45a1-bfb6-f69233b269ca\" name=\"files[]\" multiple disabled\n",
              "        style=\"border:none\" />\n",
              "     <output id=\"result-fac36539-0faf-45a1-bfb6-f69233b269ca\">\n",
              "      Upload widget is only available when the cell has been executed in the\n",
              "      current browser session. Please rerun this cell to enable.\n",
              "      </output>\n",
              "      <script src=\"/nbextensions/google.colab/files.js\"></script> "
            ],
            "text/plain": [
              "<IPython.core.display.HTML object>"
            ]
          },
          "metadata": {
            "tags": []
          }
        },
        {
          "output_type": "stream",
          "text": [
            "Saving social_network.db to social_network.db\n"
          ],
          "name": "stdout"
        }
      ]
    },
    {
      "cell_type": "markdown",
      "metadata": {
        "id": "Niw3IKvx-034"
      },
      "source": [
        "## Creating our relationship table\r\n",
        "\r\n",
        "In the code block below, we will be creating a new table in our database for `relationships` with the following parameters:\r\n",
        "\r\n",
        "\r\n",
        "1.   A primary key column called `id` with the `INTEGER` datatype that is `NOT NULL`\r\n",
        "2.   A foreign key column called `user_id` that links to the `id` column of the `people` table with the `INTEGER` datatype that is `NOT NULL`\r\n",
        "3.   Another foreign key column called `friend_id` that also links to the `id` column of the `people` table with the `INTEGER` datatype that is `NOT NULL`\r\n",
        "4.   A `date_created` table with the `DATE` datatype that is `NOT NULL`\r\n",
        "\r\n",
        "The Below codeblock will get you started:\r\n",
        "\r\n"
      ]
    },
    {
      "cell_type": "code",
      "metadata": {
        "id": "P2btKpXsANBX"
      },
      "source": [
        "import sqlite3\r\n",
        "\r\n",
        "#Retreive the Connection object, rename the file to match your uploaded DB if necessary.\r\n",
        "myConnection = sqlite3.connect('social_network.db')\r\n",
        "\r\n",
        "#Once we have a Connection object, we can generate a Cursor object, and use that to run our SQL Queries\r\n",
        "myCursor = myConnection.cursor()\r\n",
        "\r\n",
        "#The Primary Key column has been provided for you,\r\n",
        "#Replace '#!...' with the remaining column names, datatypes, and foreign key declarations.\r\n",
        "#Use the Lecture notes and the previous lab if you are unsure.\r\n",
        "createRelationshipsTable = \"\"\"CREATE TABLE IF NOT EXISTS relationships (\r\n",
        "                          id integer NOT NULL,\r\n",
        "                          user_id integer NOT NULL,\r\n",
        "                          friend_id integer NOT NULL,\r\n",
        "                          date_created date NOT NULL,\r\n",
        "                          PRIMARY KEY(id), \r\n",
        "                          FOREIGN KEY(user_id) REFERENCES people(id),\r\n",
        "                          FOREIGN KEY(friend_id) REFERENCES people(id)\r\n",
        "                        );\"\"\"\r\n",
        "\r\n",
        "#Once again, we will execute the query, persist the changes, and close our connection.\r\n",
        "myCursor.execute(createRelationshipsTable)\r\n",
        "myConnection.commit()\r\n",
        "myConnection.close()"
      ],
      "execution_count": null,
      "outputs": []
    },
    {
      "cell_type": "markdown",
      "metadata": {
        "id": "AQ4tDbnaBPpD"
      },
      "source": [
        "## Populating Relationship Data\r\n",
        "\r\n",
        "We're not going to be picky about who knows who - so for the purposes of this lab, we're going to use our own version of an AI matchmaker, the `randrange()` method.\r\n",
        "\r\n",
        "Complete the below codeblock, inserting 1000 new rows into the relationships table.\r\n",
        "Use a random number between `1 - 1000` for the `user_id` and `friend_id` columns. This will link up to the `id` column of the `people` table and effectivly simulate a random network of relationships.\r\n",
        "\r\n",
        "The below code block is purposely sparse, as you should be able to use the patterns you've identified in the previous lab to complete this task."
      ]
    },
    {
      "cell_type": "code",
      "metadata": {
        "id": "XL7ho2tJCTBG"
      },
      "source": [
        "import sqlite3\r\n",
        "from datetime import datetime #For generating dates and times\r\n",
        "from random import randrange #For generating random numbers within a range\r\n",
        "\r\n",
        "#Retreive the Connection object, rename the file to match your uploaded DB if necessary.\r\n",
        "myConnection = sqlite3.connect('social_network.db')\r\n",
        "\r\n",
        "#Once we have a Connection object, we can generate a Cursor object, and use that to run our SQL Queries\r\n",
        "myCursor = myConnection.cursor()\r\n",
        "\r\n",
        "#Complete the below query\r\n",
        "query =  \"\"\"INSERT INTO relationships(\r\n",
        "              user_id,\r\n",
        "              friend_id,\r\n",
        "              date_created)\r\n",
        "            VALUES (?, ?, ?);\"\"\"\r\n",
        "\r\n",
        "for _ in range(1000):\r\n",
        "  #Populate the arguments that will be used in the query\r\n",
        "  args = (  randrange(1,1000), \r\n",
        "            randrange(1,1000),\r\n",
        "            datetime.now())\r\n",
        "  #Execute the query\r\n",
        "  myCursor.execute(query, args)\r\n",
        "\r\n",
        "#Commit your changes and close the connection.\r\n",
        "myConnection.commit()\r\n",
        "myConnection.close()\r\n"
      ],
      "execution_count": null,
      "outputs": []
    },
    {
      "cell_type": "markdown",
      "metadata": {
        "id": "qqZLm-E0E2AV"
      },
      "source": [
        "## Building our Report\r\n",
        "\r\n",
        "Now that our AI Matchmaker has generated our network of relationships, a marketing firm is offering us boatloads of cash for information about the amount of friends the users of our social network have.\r\n",
        "\r\n",
        "The request is to return the name of each user, and the total number of relationships they have made.\r\n",
        "\r\n",
        "If this was explained in awkward pseudo code, it might go something like this:\r\n",
        "```\r\n",
        "SELECT all relationships\r\n",
        "JOIN them to the people they belong to\r\n",
        "GROUP the results by the person's ID\r\n",
        "return the person's name and COUNT of their relationships\r\n",
        "```\r\n",
        "\r\n",
        "After you have collected the data, you will need to write it to a `.txt` file. \r\n",
        "\r\n",
        "**Your submission will include the report `.txt` file, the copy of your updated `social_network.db` file, and a link to the colab notebook.**\r\n",
        "\r\n",
        "Look at the aggregate functions from Week 3 and the Join examples from Week 4. There are a few different ways that you can structure a query to reach the correct answer.\r\n",
        "\r\n",
        "**At a minimum, you will need to use a `LEFT JOIN` statement, a `GROUP BY` statement, and a `COUNT()` aggregate function.**\r\n",
        "\r\n",
        "The below code block will get you started:"
      ]
    },
    {
      "cell_type": "code",
      "metadata": {
        "id": "0OvhhCMKGkU3",
        "colab": {
          "base_uri": "https://localhost:8080/"
        },
        "outputId": "8eb78f87-1e57-4dcd-f3ba-bbfcb4feb6f8"
      },
      "source": [
        "import sqlite3\r\n",
        "\r\n",
        "\r\n",
        "#Retreive the Connection object, rename the file to match your uploaded DB if necessary.\r\n",
        "myConnection = sqlite3.connect('social_network.db')\r\n",
        "\r\n",
        "#Once we have a Connection object, we can generate a Cursor object, and use that to run our SQL Queries\r\n",
        "myCursor = myConnection.cursor()\r\n",
        "\r\n",
        "#Uncomment the below line after you have determined what the correct mode will be for your file pointer.\r\n",
        "fp = open('report.txt', mode='w') #for this lab i found \"w\" (write) would be the best option because it will overide the data with more up to date information. appending it is good to see the difference but it would be to complicated output. it will create a file if one doesnt exist.\r\n",
        "\r\n",
        "#Complete the below query\r\n",
        "query =  \"\"\"SELECT name ,COUNT(friend_id) FROM relationships\r\n",
        "              LEFT JOIN people\r\n",
        "                ON people.id = relationships.user_id\r\n",
        "              GROUP BY user_id\r\n",
        "              ORDER BY COUNT(friend_id) DESC\r\n",
        "         \"\"\"\r\n",
        "\r\n",
        "myCursor.execute(query)\r\n",
        "results = myCursor.fetchall()\r\n",
        "\r\n",
        "fp.write(\"This report contains information pulled from our databases. It provides information on the number of relationships and/or friendships for 1000 users\\n\\n\")\r\n",
        "counter = 0\r\n",
        "for i in results:\r\n",
        "  fp.write( \"The user {name} has {count} relationship(s) and/or friendship(s)\\n\".format(name=results[counter][0],count=results[counter][1]))\r\n",
        "  counter += 1\r\n",
        "\r\n",
        "print(results)\r\n",
        "\r\n",
        "#for result in results:\r\n",
        "  #You will want to write the results to the file pointer here.\r\n",
        "  #Use the newline character \\n to create a line break in each write() statement.\r\n",
        "  #Use print() statements as sanity checks if you are unsure of the integrity of your data.\r\n",
        "\r\n",
        "#Don't forget to close the file pointer after you have finished!\r\n",
        "\r\n",
        "fp.close()"
      ],
      "execution_count": 106,
      "outputs": [
        {
          "output_type": "stream",
          "text": [
            "[('James Smith', 7), ('Stephanie Cox', 5), ('Brenda Schmitt', 5), ('Stephen Kennedy', 4), ('Gerald White', 4), ('Stephanie Williams', 4), ('Tiffany Diaz', 4), ('Kara Roberts', 4), ('Timothy Morales', 4), ('Mrs. Natalie Pineda', 4), ('Sharon Drake', 4), ('Brian Branch', 4), ('Shaun Wang', 3), ('Chad Castillo', 3), ('Elizabeth Barton', 3), ('Mr. Derek Johnston MD', 3), ('Mark Harris', 3), ('Christopher Wallace', 3), ('Kenneth Williams', 3), ('Jeffery Lee', 3), ('Spencer Moran', 3), ('Katherine Armstrong', 3), ('Belinda James', 3), ('Jacqueline Black', 3), ('Nancy Sullivan PhD', 3), ('Austin Alvarez', 3), ('Jennifer Bartlett', 3), ('Stephanie Ball', 3), ('Michael Martinez', 3), ('Adrian Mann', 3), ('Anthony Young', 3), ('Derek Cooper', 3), ('Anna Johnson', 3), ('Zachary Mitchell', 3), ('Haley Yoder', 3), ('Connie Mahoney', 3), ('Kimberly Howard', 3), ('Marie Wade MD', 3), ('Sheila Lee', 3), ('Brandon Gibson', 3), ('Brittany Lawson', 3), ('Annette Morris', 3), ('Gary Thomas', 3), ('Teresa Kim', 3), ('Michael Ortiz', 3), ('Christopher Garcia', 3), ('Savannah Brown', 3), ('Matthew Burnett', 3), ('Daniel Duncan', 3), ('Jacqueline Webb', 3), ('Sarah Johnson', 3), ('Ashley Garcia', 3), ('Paige Cameron', 3), ('Donald Garcia', 3), ('Mr. Paul Moore', 3), ('Madison Newman', 3), ('Eric Smith', 3), ('Gina Armstrong', 3), ('Sharon Norman', 3), ('Gregory Herring', 3), ('Benjamin Mckinney', 3), ('Paul Kim', 3), ('Nathan Hood', 3), ('Linda Walton', 3), ('Meghan Moore', 3), ('Steven Romero', 3), ('Michele Schwartz', 3), ('Richard Huerta', 3), ('Darryl Dodson', 3), ('David Jones', 3), ('Michael Weeks', 3), ('Joshua Rhodes', 3), ('Andre Moore', 3), ('Hector Morales', 3), ('Jonathan Sanchez', 3), ('Maria Blanchard', 3), ('Kaitlyn Wright', 3), ('Jeffrey Walsh', 3), ('Kenneth Ross', 3), ('Jose Downs', 3), ('Brandon Gates', 3), ('Raymond Flores', 3), ('Stephanie Weaver', 3), ('David Nichols', 3), ('Brittany Mclean', 3), ('April Guerra', 2), ('Matthew Moore', 2), ('Michael Cherry', 2), ('Willie Graham', 2), ('James Griffin', 2), ('Patricia Owens', 2), ('Nicole Jackson', 2), ('Andrew Murphy', 2), ('Douglas Henderson', 2), ('Marvin Horne', 2), ('Andrea Jordan', 2), ('Mr. Robert Miller', 2), ('Mark Bowman', 2), ('Jennifer Torres', 2), ('Jose Austin', 2), ('Holly Howard', 2), ('Diane Diaz', 2), ('Regina Phillips', 2), ('Peggy Wilson MD', 2), ('Paul Thompson', 2), ('Blake Tran', 2), ('Julie Wilson', 2), ('Judy Boyd', 2), ('Katelyn Ritter', 2), ('Vincent Garcia', 2), ('Brian Hess', 2), ('Joshua Pierce', 2), ('Jonathan Chang', 2), ('Denise Wright', 2), ('Carrie Burgess', 2), ('Cheryl Gregory', 2), ('Philip Edwards', 2), ('Dawn Griffin', 2), ('Brianna Jenkins', 2), ('Jacob Durham', 2), ('Jennifer Hines', 2), ('Ronald Willis', 2), ('Alexis Hunt', 2), ('Pamela Williams', 2), ('Kyle Johnson', 2), ('Kerri Chapman', 2), ('Sabrina Murray', 2), ('Lisa Ortiz', 2), ('Mackenzie Herring', 2), ('Theresa Rodriguez', 2), ('Michael Garner', 2), ('Thomas Farley', 2), ('Dawn Guerrero', 2), ('Dorothy Miller', 2), ('Jeffrey Johnson', 2), ('Cassandra Wilson', 2), ('Mary Butler', 2), ('Gina Brown', 2), ('Stephanie Bryant', 2), ('Mary Fletcher', 2), ('Cameron Robinson', 2), ('Sean Rodriguez', 2), ('Veronica Miller', 2), ('Brianna Greene', 2), ('Karen Lane', 2), ('Christopher Benton', 2), ('Ryan Larson', 2), ('Sierra Nelson', 2), ('Lisa Johnson', 2), ('Clayton Miranda', 2), ('Brandon Anderson', 2), ('Julie Hawkins', 2), ('Christopher Sanders', 2), ('Christina Gutierrez', 2), ('Nathaniel Johnson', 2), ('John Baker', 2), ('Stephanie Hawkins', 2), ('Jeremy Henderson', 2), ('Christina Smith', 2), ('Glenn Horn', 2), ('Pamela Kim', 2), ('Amy Jones', 2), ('Danielle Vang', 2), ('Gregory Diaz', 2), ('Kimberly Maldonado', 2), ('Colleen Henry', 2), ('Mr. Thomas Bond', 2), ('Ryan Choi', 2), ('Juan Alvarez', 2), ('Sierra King', 2), ('Christopher Cain', 2), ('Carl Walker', 2), ('Stacie Munoz', 2), ('Krystal Harris', 2), ('Helen Sandoval', 2), ('Susan Burns', 2), ('Jason Davila', 2), ('Misty Huber', 2), ('Christy Goodman', 2), ('Amber Mcmillan', 2), ('Matthew Taylor', 2), ('Chelsea Nixon', 2), ('Ricky Wilkinson', 2), ('Rachel Bryant', 2), ('Jill Hayes', 2), ('Daniel Perez', 2), ('Ernest Fisher', 2), ('Jacqueline Green', 2), ('Sherry Hernandez', 2), ('Kathryn Torres', 2), ('James Jordan', 2), ('Kyle Griffin', 2), ('Mario Martinez', 2), ('Matthew Simmons', 2), ('Lauren Smith', 2), ('Gerald Walker', 2), ('Melissa Rodriguez', 2), ('Kara Bennett', 2), ('Michael Fleming', 2), ('Hannah Garza', 2), ('Jeremy Morrow', 2), ('Jordan Yu', 2), ('Daniel Hernandez', 2), ('Christopher Hicks Jr.', 2), ('Teresa Johnson', 2), ('Rebecca Walters', 2), ('Nicholas Collins', 2), ('Lorraine White', 2), ('Dorothy Lee', 2), ('Sarah Daugherty', 2), ('Mark Rodriguez', 2), ('Christine Duarte', 2), ('Geoffrey Scott', 2), ('Tony Jefferson', 2), ('Joshua Francis', 2), ('Matthew Herrera', 2), ('Laura Carpenter', 2), ('Nicole Fox', 2), ('Gail Swanson', 2), ('Travis Bennett', 2), ('Ashley Jones DDS', 2), ('Jacqueline Rodriguez', 2), ('Steven Gillespie', 2), ('Joshua Woods', 2), ('Tami Warren', 2), ('Kenneth Austin', 2), ('Eric Jennings', 2), ('Margaret Garrett', 2), ('Ashley Nelson', 2), ('Cynthia Johnston', 2), ('Benjamin Mccann', 2), ('Tanya Stewart', 2), ('Mrs. Barbara Campbell DDS', 2), ('Jasmin Allen', 2), ('Kelly Mccall', 2), ('Brandi Foster', 2), ('Alfred Clark', 2), ('Meredith Lawson', 2), ('Claire Hardy', 2), ('Stephen Hughes', 2), ('Michelle Cruz', 2), ('Crystal White', 2), ('Nicole Pennington', 2), ('Joseph Lambert', 2), ('Jamie Paul', 2), ('Deborah Gilbert', 2), ('Kimberly Trevino', 2), ('James Moreno', 2), ('Tara Scott', 2), ('Robert Gray', 2), ('Shelly Henry', 2), ('Paul Vaughn', 2), ('Andrew Mckinney', 2), ('Krystal Owens', 2), ('Kelly Foster', 2), ('Gregory Kaiser', 2), ('Blake Phillips', 2), ('Adam Williams', 2), ('Ray Powers', 2), ('Aaron Yoder', 2), ('Gregory Salazar', 2), ('Michael James', 2), ('Michael Lutz', 2), ('Mr. Elijah Robinson', 2), ('Mariah Riley', 2), ('Michael Haynes', 1), ('Marcus Bryant', 1), ('Edward Richardson', 1), ('Angelica Grant', 1), ('Kyle Lowe', 1), ('Shawn Hart', 1), ('Danielle Ortiz', 1), ('Jesse Lamb', 1), ('Andrew Pope', 1), ('Laura Mason', 1), ('Brenda Williams', 1), ('Jerome Thomas', 1), ('Kellie Moore', 1), ('Karen Nguyen', 1), ('Monica Soto', 1), ('Charles Johnson', 1), ('James Miller', 1), ('Jeffrey West', 1), ('Sabrina Scott', 1), ('Austin King', 1), ('Jillian Roberts', 1), ('David Bonilla', 1), ('Sheila Morales', 1), ('Thomas Smith', 1), ('Anthony Riggs', 1), ('Todd Smith', 1), ('Catherine Wright', 1), ('Terry Rodriguez', 1), ('Allen Gonzalez', 1), ('Cynthia Curtis', 1), ('Amy Adams', 1), ('Douglas Morton', 1), ('Gerald Butler', 1), ('Denise Branch', 1), ('John Bradley', 1), ('Christina Castillo', 1), ('Eddie Martin', 1), ('Kelly Espinoza', 1), ('Victoria Conrad', 1), ('Lisa Mathis', 1), ('Amanda Bradford', 1), ('Leslie Nash', 1), ('Jeremy Johnson', 1), ('Justin Adams', 1), ('Christopher Gilmore', 1), ('Nicholas Young', 1), ('Kelly Miller', 1), ('Rhonda Riggs', 1), ('Diana Walters', 1), ('Karen Kaiser', 1), ('Christopher Simon', 1), ('Amy Morrow', 1), ('Jessica Austin', 1), ('Andrea Lopez', 1), ('Jasmine Thompson', 1), ('Angela Beck', 1), ('Brittney Walker', 1), ('Corey Horn', 1), ('Brandon Rodriguez', 1), ('Tabitha Torres', 1), ('Matthew Hunt', 1), ('Tyler Bates', 1), ('David Juarez', 1), ('Ryan Hamilton', 1), ('Angela Middleton', 1), ('Susan Stone', 1), ('Amy Hoffman', 1), ('Benjamin Kim', 1), ('Jason Phillips', 1), ('Randy Flowers', 1), ('Steven Vaughan', 1), ('Jeremy Calderon', 1), ('Anthony Johnson', 1), ('Chase Mccullough', 1), ('Michael Nguyen', 1), ('Gregory Collins', 1), ('Elizabeth Garcia', 1), ('Steve Lawrence', 1), ('John Kemp', 1), ('Tyrone Morton', 1), ('Matthew Kemp', 1), ('Bethany Smith', 1), ('Cassandra Johnson', 1), ('Dylan Thornton', 1), ('Marissa Moreno', 1), ('Melissa Butler', 1), ('Christina Bryant', 1), ('Lacey Mccormick', 1), ('Martin Smith', 1), ('Thomas Martin', 1), ('Bryan Duran', 1), ('Dennis Graham', 1), ('David Crawford', 1), ('Dr. Kimberly Cervantes', 1), ('Tina Davis', 1), ('Brittany Hudson', 1), ('James Carlson', 1), ('Troy Payne', 1), ('Edward Lewis', 1), ('Brett Franco', 1), ('Donna Banks', 1), ('Eric Bridges', 1), ('Martha Barker', 1), ('Kevin Walters', 1), ('Sherri Sexton', 1), ('Darlene Banks', 1), ('Calvin Duncan', 1), ('Pamela Chambers', 1), ('Susan Jones', 1), ('Kyle Lambert', 1), ('Ashley Gutierrez', 1), ('Timothy Miller', 1), ('Laura Holmes', 1), ('Donna Wu', 1), ('Danny Young', 1), ('Meredith May', 1), ('Mary Young', 1), ('Michele Sandoval', 1), ('Peter Anderson', 1), ('Roger Smith', 1), ('Perry Torres', 1), ('Timothy House', 1), ('John Williams', 1), ('Joel Sullivan', 1), ('Wendy Michael DVM', 1), ('Amanda Johnson', 1), ('Tony Terry', 1), ('Beth Wagner', 1), ('Sheena Robinson', 1), ('Emily Roberts', 1), ('Paul Lindsey', 1), ('Michael Smith', 1), ('Robert Jones', 1), ('Amy Davidson', 1), ('Frank Best', 1), ('Mark Knight', 1), ('Veronica Mccormick', 1), ('Lisa Jones', 1), ('Theodore Cook', 1), ('Kimberly Zamora', 1), ('Keith Gillespie', 1), ('Derrick Montes', 1), ('Lynn Flores', 1), ('Jonathan Lee', 1), ('Stacy White', 1), ('Sara Simmons', 1), ('Logan Hughes', 1), ('Sierra Jones', 1), ('Randall Cruz', 1), ('Nicholas Fields', 1), ('Tami Sweeney', 1), ('Jay Gilmore', 1), ('Russell Lewis', 1), ('Shannon Shaw', 1), ('Andrew Bates', 1), ('Corey Escobar', 1), ('Joseph Contreras', 1), ('Heidi Lopez', 1), ('Alicia Jones', 1), ('Julie Miller', 1), ('Christine Aguirre', 1), ('Brittany Lam', 1), ('James Lopez', 1), ('Allison Stanton', 1), ('Jessica Lopez', 1), ('Sharon Gould', 1), ('Melissa Wilson', 1), ('Amy Williams', 1), ('Toni Smith', 1), ('Samuel Smith', 1), ('James White', 1), ('Kristin Boyd', 1), ('Christina Rodriguez', 1), ('Gary Bush', 1), ('Lori Matthews', 1), ('Kendra Johnson', 1), ('Ricardo Price', 1), ('Scott Crane', 1), ('Ian Santiago', 1), ('David Hoffman', 1), ('Shawn Cunningham II', 1), ('Jeremy Turner', 1), ('Kristie Cobb', 1), ('Katelyn Griffin', 1), ('Ryan Thomas', 1), ('Pamela Taylor', 1), ('Kimberly Larson', 1), ('Alicia Nguyen', 1), ('Mrs. Stacey Sanders', 1), ('Carrie Roberts', 1), ('Amy Mann', 1), ('Tracy Brown', 1), ('Rachel Johnson', 1), ('Gabriella Clark', 1), ('Nathaniel Higgins', 1), ('Deanna Garcia', 1), ('Raymond Wong', 1), ('Rachel Nunez', 1), ('James Ashley', 1), ('Jose Singleton', 1), ('Ricky Mcgee', 1), ('Paul Mayo', 1), ('Patricia Mcdonald', 1), ('Mr. Richard Davis', 1), ('Ashley Hansen', 1), ('Autumn Sanders', 1), ('Ashley Garner', 1), ('Joseph Hernandez', 1), ('Alexander Caldwell', 1), ('Michael Smith', 1), ('Bobby Holt', 1), ('Thomas Fox', 1), ('Gregory Austin', 1), ('Krista Gallagher', 1), ('Thomas Moreno', 1), ('Anne Cunningham', 1), ('Mary Jackson', 1), ('Mrs. Jennifer Scott', 1), ('Keith Ruiz', 1), ('Susan Gibbs', 1), ('Kristi Campbell', 1), ('Sarah Lopez', 1), ('Laura Roberts', 1), ('Keith Hernandez', 1), ('Thomas Osborn', 1), ('Caroline Brown', 1), ('Dr. Timothy Reed MD', 1), ('Jason Cline', 1), ('Henry Gallagher', 1), ('Michelle White', 1), ('Rachel Green', 1), ('Diane Clayton', 1), ('Jonathan Fisher', 1), ('Seth Wood', 1), ('Jordan Harmon', 1), ('Samantha Bryant', 1), ('Eric Doyle', 1), ('Daniel Jefferson', 1), ('Tony Wright', 1), ('Mary Beasley', 1), ('Christian Francis', 1), ('Benjamin Petty', 1), ('Paul Copeland', 1), ('Nicole Campbell', 1), ('Becky Hunter', 1), ('Jill Valenzuela', 1), ('Jason Hebert', 1), ('Pamela Cole', 1), ('Andrew Pittman', 1), ('David Williams', 1), ('Melissa Tapia', 1), ('Bethany Torres', 1), ('Brittany Carter', 1), ('Kelly King', 1), ('Alexis Moss', 1), ('Joshua Holder', 1), ('Paul Patterson', 1), ('David Romero', 1), ('Leslie Williams', 1), ('Courtney Ramirez', 1), ('Laura Booth', 1), ('Sheryl Bishop', 1), ('Carol Lopez', 1), ('Philip Pierce', 1), ('Anthony Le', 1), ('Kimberly Coleman', 1), ('Anne Price', 1), ('Charles Flores', 1), ('Stacey Smith', 1), ('James Stewart', 1), ('Paul Parks', 1), ('Rebekah Martin', 1), ('Rachel Tyler', 1), ('Nancy Johnson', 1), ('Dustin Davis', 1), ('John Garza', 1), ('Alexandra Kelly', 1), ('Annette Miller', 1), ('Adam Browning', 1), ('John Snow', 1), ('Sharon Hernandez', 1), ('Steve Garcia', 1), ('Robin Ryan', 1), ('Alan Richards', 1), ('Deborah Graham', 1), ('Elizabeth Sellers', 1), ('Scott Brown', 1), ('Ryan Jones', 1), ('Marcus Parker', 1), ('Richard Wright', 1), ('Michelle Kelley', 1), ('Francisco Combs', 1), ('Justin Hines', 1), ('Jacqueline Hodges', 1), ('Erin Watson', 1), ('Johnathan Henderson', 1), ('Valerie Hunter', 1), ('Debbie Wright', 1), ('Corey Jones', 1), ('Joy Smith', 1), ('William Lucas', 1), ('Chad Simmons', 1), ('Deanna Brown', 1), ('Lisa Rogers', 1), ('Megan Morris', 1), ('Christopher Kim', 1), ('Brooke Moody', 1), ('Chris Woods', 1), ('Drew Dickerson', 1), ('Matthew Acosta MD', 1), ('Zachary Hall', 1), ('Kelly Mcgrath', 1), ('Cheyenne Wright', 1), ('Stephanie Johnson', 1), ('Brenda Murphy', 1), ('Grace Jones', 1), ('Sharon Stuart', 1), ('Dr. Melissa Smith', 1), ('Ryan Clements', 1), ('Taylor Villegas', 1), ('Michael Harris', 1), ('Nicholas Mccullough', 1), ('Mr. Michael Hernandez', 1), ('Tiffany Reid', 1), ('Timothy Diaz', 1), ('Douglas Stevens', 1), ('Anthony Ballard', 1), ('Douglas Medina', 1), ('Nancy Hawkins', 1), ('Stephanie Stevens', 1), ('Erin Roach', 1), ('Austin Howell', 1), ('Kelly Elliott', 1), ('Aaron Avila', 1), ('Brandi Lewis', 1), ('Cynthia Lara', 1), ('Pamela Harris', 1), ('Edward Lambert', 1), ('Amanda Black', 1), ('Travis Barnes', 1), ('Johnathan Young', 1), ('Scott Miller', 1), ('John Gonzales', 1), ('Brandon Chen', 1), ('Leonard Dillon', 1), ('James Martinez', 1), ('Amber Robinson', 1), ('Brianna Martinez', 1), ('Melissa Williamson', 1), ('Michelle Diaz', 1), ('Kurt Stafford', 1), ('Melissa Mitchell', 1), ('Adam Mahoney', 1), ('Linda Garcia', 1), ('Terri Kelley', 1), ('Lisa Sanders', 1), ('Jenna Price', 1), ('Gail Lyons', 1), ('Joshua Kennedy', 1), ('Jonathan Lewis', 1), ('Justin Williams', 1), ('Joanna Forbes', 1), ('Larry Thomas', 1), ('Emily Williams', 1), ('Anthony Daniel', 1), ('Darren Foster', 1), ('Mark Vaughn', 1), ('Kathryn Crawford', 1)]\n"
          ],
          "name": "stdout"
        }
      ]
    },
    {
      "cell_type": "markdown",
      "metadata": {
        "id": "mySkq1HNmgXU"
      },
      "source": [
        ""
      ]
    },
    {
      "cell_type": "markdown",
      "metadata": {
        "id": "uhxqLV4TNnjA"
      },
      "source": [
        "### Challenge: Write a CSV file\r\n",
        "\r\n",
        "**This challenge isn't for extra marks, it's an opportunity for you to engage in some self guided discovery, only if you feel like it, and only if you have time.**\r\n",
        "\r\n",
        "If you want to challenge yourself, alter the report so that it conforms with the `.csv` file type. There are a number of ways to do this, you can use the `Pandas` module, the `csv` module, or manually."
      ]
    }
  ]
}