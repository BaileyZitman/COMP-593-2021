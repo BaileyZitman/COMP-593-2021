{
  "nbformat": 4,
  "nbformat_minor": 0,
  "metadata": {
    "colab": {
      "name": "LAB 2: CONSUMING WEB APIs",
      "provenance": [],
      "collapsed_sections": [],
      "toc_visible": true,
      "include_colab_link": true
    },
    "kernelspec": {
      "name": "python3",
      "display_name": "Python 3"
    }
  },
  "cells": [
    {
      "cell_type": "markdown",
      "metadata": {
        "id": "view-in-github",
        "colab_type": "text"
      },
      "source": [
        "<a href=\"https://colab.research.google.com/github/BaileyZitman/COMP-593-2021/blob/week%2Ftwo-api-calls/LAB_2_CONSUMING_WEB_APIs.ipynb\" target=\"_parent\"><img src=\"https://colab.research.google.com/assets/colab-badge.svg\" alt=\"Open In Colab\"/></a>"
      ]
    },
    {
      "cell_type": "markdown",
      "metadata": {
        "id": "EoKZy-QeYU0_"
      },
      "source": [
        "#LAB 2: CONSUMING WEB APIs"
      ]
    },
    {
      "cell_type": "markdown",
      "metadata": {
        "id": "ayyh7BuRYfJo"
      },
      "source": [
        "## Making Network Requests\r\n",
        "To experiment with consuming web APIs, we are going to use a python Library that will allow us to make HTTP requests. There are several options out there, some are more popular than others. The standard choice would be the [requests](https://2.python-requests.org/en/master/) library, but for the purposes of educating you on the finer points of HTTP Messages, we will be utilizing the [http.client](https://docs.python.org/3/library/http.client.html) library."
      ]
    },
    {
      "cell_type": "markdown",
      "metadata": {
        "id": "VkspyplEZ4sR"
      },
      "source": [
        "As we have learned, the first step to utilizing a library is to  import it into our python script. We will import the `client` object from the `http` module."
      ]
    },
    {
      "cell_type": "code",
      "metadata": {
        "id": "UWFC3bYoYRlx"
      },
      "source": [
        "from http import client"
      ],
      "execution_count": 37,
      "outputs": []
    },
    {
      "cell_type": "markdown",
      "metadata": {
        "id": "FJsZPjpqaMnm"
      },
      "source": [
        "Next, we will attempt to create a connection to a host. For the purposes of this demonstration, we will connect to a Fake JSON Api provided to us by [typicode.](https://github.com/typicode)\r\n",
        "So, let's start by reviewing the [http.client documentation](https://docs.python.org/3/library/http.client.html) and creating a connection object."
      ]
    },
    {
      "cell_type": "code",
      "metadata": {
        "id": "vuasc-tmbAV-",
        "colab": {
          "base_uri": "https://localhost:8080/"
        },
        "outputId": "2f8da7fc-6bfa-4728-a57b-2808d8e6536e"
      },
      "source": [
        "from http import client\r\n",
        "\r\n",
        "# Per the documentation, we get a connection object by calling the HTTPConnection() or HTTPSConnection() methods,\r\n",
        "# with parameters for the address and port.\r\n",
        "cxn = client.HTTPSConnection('jsonplaceholder.typicode.com', 443)\r\n",
        "\r\n",
        "# Let's test our connection by making a HEAD request, validating the HTTP status code, and printing the response headers.\r\n",
        "cxn.request('HEAD', '/')\r\n",
        "\r\n",
        "response = cxn.getresponse()\r\n",
        "\r\n",
        "if response.status is 200:\r\n",
        "  print('Response:',response.status, '🎉🎉🎉', '\\n')\r\n",
        "else:\r\n",
        "  print('Uh Oh, got',response.status)\r\n",
        "\r\n",
        "print(response.headers)"
      ],
      "execution_count": 38,
      "outputs": [
        {
          "output_type": "stream",
          "text": [
            "Response: 200 🎉🎉🎉 \n",
            "\n",
            "Date: Sun, 07 Feb 2021 05:40:00 GMT\n",
            "Content-Type: text/html; charset=UTF-8\n",
            "Connection: keep-alive\n",
            "Set-Cookie: __cfduid=df8f981053ddeb48be67939fa5757828c1612676400; expires=Tue, 09-Mar-21 05:40:00 GMT; path=/; domain=.typicode.com; HttpOnly; SameSite=Lax\n",
            "X-Powered-By: Express\n",
            "X-Ratelimit-Limit: 1000\n",
            "X-Ratelimit-Remaining: 999\n",
            "X-Ratelimit-Reset: 1612660851\n",
            "Vary: Origin, Accept-Encoding\n",
            "Access-Control-Allow-Credentials: true\n",
            "Cache-Control: public, max-age=43200\n",
            "Last-Modified: Sat, 06 Feb 2021 18:06:34 GMT\n",
            "Via: 1.1 vegur\n",
            "CF-Cache-Status: HIT\n",
            "Age: 15567\n",
            "cf-request-id: 081c9a1f5600000d92e2a46000000001\n",
            "Expect-CT: max-age=604800, report-uri=\"https://report-uri.cloudflare.com/cdn-cgi/beacon/expect-ct\"\n",
            "Report-To: {\"group\":\"cf-nel\",\"endpoints\":[{\"url\":\"https:\\/\\/a.nel.cloudflare.com\\/report?s=E3TqbvA%2FQw41ktvAP1Sv1ITUoI1x6WH7eLgemBHf%2F4waV2k2%2FmgX6P%2FbGZ15LcjFdpEE7dN6wgec4Rj7iyj48QnzRxpaIQeQxZ2E6vlE8mO9z2AVcs2C9U0%2FRSiA\"}],\"max_age\":604800}\n",
            "NEL: {\"max_age\":604800,\"report_to\":\"cf-nel\"}\n",
            "Server: cloudflare\n",
            "CF-RAY: 61dac6122f5e0d92-IAD\n",
            "\n",
            "\n"
          ],
          "name": "stdout"
        }
      ]
    },
    {
      "cell_type": "markdown",
      "metadata": {
        "id": "_qwpsJKreFSj"
      },
      "source": [
        "Awesome! A 200 status code means everything is g2g. For information about what the different status codes retured from HTTP Requests, [look here.](https://developer.mozilla.org/en-US/docs/Web/HTTP/Status) If you received anything other than a 200 Status code, try reloading the Notebook, ensuring you didn't accidentally make any changes."
      ]
    },
    {
      "cell_type": "markdown",
      "metadata": {
        "id": "1dr6bRGJfK5N"
      },
      "source": [
        "## JSON: The Language of APIs\r\n",
        "\r\n",
        "JSON (**J**ava**S**cript **O**bject **N**otation) is a messaging standard that was formalized in 2014 based on specifications of the JavaScript Standard introduced in 1999. In it's simplest form, it is an object containing a collection of `key` and `value` pairs. Values can be any primitive data types such as `boolean`, `integer`, `float`, or `string` but can also be nested `objects` or `arrays`.\r\n",
        "Almost every language provides an interface to be able to encode or decode JSON objects into a native format.\r\n",
        "\r\n",
        "In the case of python, we can decode JSON objects to `dictionaries`, and vice versa. See the example below:"
      ]
    },
    {
      "cell_type": "code",
      "metadata": {
        "id": "tB53-AfEg1sW",
        "colab": {
          "base_uri": "https://localhost:8080/"
        },
        "outputId": "076f738a-14e5-42b9-e3e3-4b393ff6d03a"
      },
      "source": [
        "import json\r\n",
        "\r\n",
        "#Given the following Dictionary\r\n",
        "values = dict([('first_name', 'Homer'), ('last_name', 'Simpson'), ('city', 'Springfield'), ('occupation', 'Nuclear Technician')])\r\n",
        "\r\n",
        "#We can convert a dictionary to using using the json.dumps() method\r\n",
        "jsonObject = json.dumps(values)\r\n",
        "print(jsonObject, '\\n')\r\n",
        "\r\n",
        "#Alternatively, given JSON, we can convert to a Dictionary object using the json.loads() method\r\n",
        "dictionary = json.loads(jsonObject)\r\n",
        "print(dictionary['first_name'], dictionary['last_name'])"
      ],
      "execution_count": 39,
      "outputs": [
        {
          "output_type": "stream",
          "text": [
            "{\"first_name\": \"Homer\", \"last_name\": \"Simpson\", \"city\": \"Springfield\", \"occupation\": \"Nuclear Technician\"} \n",
            "\n",
            "Homer Simpson\n"
          ],
          "name": "stdout"
        }
      ]
    },
    {
      "cell_type": "markdown",
      "metadata": {
        "id": "ceieILkVovku"
      },
      "source": [
        "Taking a look at the Documentation for the [fake API](https://jsonplaceholder.typicode.com/), it returns JSON objects for requests it receives. Let's try and combine what we've learned to get the Email Address of the User with ID 10."
      ]
    },
    {
      "cell_type": "code",
      "metadata": {
        "id": "F--Bluq4pY4j",
        "colab": {
          "base_uri": "https://localhost:8080/"
        },
        "outputId": "375fa8e9-cb78-4beb-e975-e2296f3d29c0"
      },
      "source": [
        "from http import client\r\n",
        "import json\r\n",
        "\r\n",
        "# Per the documentation, we get a connection object by calling the HTTPConnection() or HTTPSConnection() methods,\r\n",
        "# with parameters for the address and port.\r\n",
        "cxn = client.HTTPSConnection('jsonplaceholder.typicode.com', 443)\r\n",
        "\r\n",
        "# In order to make our request, we will need to modify the method from our previous example to a GET request for the resource at '/users/10'.\r\n",
        "# When you're ready, uncomment the method call below.\r\n",
        "cxn.request('GET', '/users/10')\r\n",
        "\r\n",
        "response = cxn.getresponse()\r\n",
        "if response.status is 200:\r\n",
        "  print('Response:',response.status, '🎉🎉🎉', '\\n')\r\n",
        "else:\r\n",
        "  print('Uh Oh, got',response.status)\r\n",
        "\r\n",
        "#If everything goes well, this should contain the JSON response from the API.\r\n",
        "jsonData = response.read().decode()\r\n",
        "print(jsonData)\r\n",
        "\r\n",
        "#Next, go ahead and convert the jsonData string to a Dictionary, and print the email address.\r\n",
        "#Look at the example above for some pointers on how to accomplish that.\r\n",
        "\r\n",
        "dictionary = json.loads(jsonData)\r\n",
        "print(\"\\nThe email address is: \",dictionary['email'])"
      ],
      "execution_count": 40,
      "outputs": [
        {
          "output_type": "stream",
          "text": [
            "Response: 200 🎉🎉🎉 \n",
            "\n",
            "{\n",
            "  \"id\": 10,\n",
            "  \"name\": \"Clementina DuBuque\",\n",
            "  \"username\": \"Moriah.Stanton\",\n",
            "  \"email\": \"Rey.Padberg@karina.biz\",\n",
            "  \"address\": {\n",
            "    \"street\": \"Kattie Turnpike\",\n",
            "    \"suite\": \"Suite 198\",\n",
            "    \"city\": \"Lebsackbury\",\n",
            "    \"zipcode\": \"31428-2261\",\n",
            "    \"geo\": {\n",
            "      \"lat\": \"-38.2386\",\n",
            "      \"lng\": \"57.2232\"\n",
            "    }\n",
            "  },\n",
            "  \"phone\": \"024-648-3804\",\n",
            "  \"website\": \"ambrose.net\",\n",
            "  \"company\": {\n",
            "    \"name\": \"Hoeger LLC\",\n",
            "    \"catchPhrase\": \"Centralized empowering task-force\",\n",
            "    \"bs\": \"target end-to-end models\"\n",
            "  }\n",
            "}\n",
            "\n",
            "The email address is:  Rey.Padberg@karina.biz\n"
          ],
          "name": "stdout"
        }
      ]
    },
    {
      "cell_type": "markdown",
      "metadata": {
        "id": "pPObsy_av_Ic"
      },
      "source": [
        "## Lab Submission\r\n",
        "\r\n",
        "For your Lab Submission, you will create a script that accomplishes the following goals:\r\n",
        "\r\n",
        "1.   Review the Documentation for the [PokeApi](https://pokeapi.co/)\r\n",
        "2.   Make a GET request to the correct endpoint to get information about any Pokemon.\r\n",
        "3.   Convert that Data from a JSON object to a Dictionary\r\n",
        "4.   Using that Dictonary, craft a string that will provide the `name`, `weight` and list of names of `types`\r\n",
        "5. Make an HTTP POST request using the Provided PasteBin API key to upload your crafted string. If successful, you will receive the URL of the PasteBin Document in the response of the POST request.\r\n",
        "6. That Link, and the code within this Notebook, will be your submission.\r\n",
        "\r\n"
      ]
    },
    {
      "cell_type": "code",
      "metadata": {
        "colab": {
          "base_uri": "https://localhost:8080/"
        },
        "id": "ZNqUoinq6mTx",
        "outputId": "801c66cd-5c89-4401-f31e-28c51631cea2"
      },
      "source": [
        "from http import client\r\n",
        "import urllib\r\n",
        "import json\r\n",
        "\r\n",
        "#HINT: You may want to create two different HTTPSConnection() objects for each API.\r\n",
        "pokeApi = client.HTTPSConnection('pokeapi.co', 443)\r\n",
        "pasteBin = client.HTTPSConnection('pastebin.com', 443)\r\n",
        "\r\n",
        "#used to create the disctionary of mew Full stats\r\n",
        "pokeApi_req = pokeApi.request('GET', '/api/v2/pokemon/mew')\r\n",
        "pokeApi_req_resp = pokeApi.getresponse()\r\n",
        "pokeApi_jsonData = pokeApi_req_resp.read().decode()\r\n",
        "pokeApi_mew_stats = json.loads(pokeApi_jsonData)\r\n",
        "\r\n",
        "#created a list with the \"type\" info in it that can be drawn from directly. I split it to access the type name\r\n",
        "mew_type = {}\r\n",
        "mew_type = pokeApi_mew_stats['types']\r\n",
        "mew_type = str(mew_type).split('\\'')\r\n",
        "\r\n",
        "#so i found out the weight is not 40 but actually 4kg. Below i split the string and assign it to a list\r\n",
        "new_weight = ()\r\n",
        "mew_weight = pokeApi_mew_stats['weight']\r\n",
        "mew_weight = str(mew_weight).partition('0')\r\n",
        "\r\n",
        "#sentence that will be outputted to pastebin\r\n",
        "sentence = \"{name} is a legendary and a powerful pokemon, arguably making him the best pokemon.{name} weighs {weight}.{weight4} kg and boast the awesome type of {types}!!!!!!\".format(name = str.capitalize(pokeApi_mew_stats['name']), weight = str(mew_weight[0]), weight4 = str(mew_weight[1]), types = str(mew_type[7])) \r\n",
        "\r\n",
        "#The Pastebin API key you will use\r\n",
        "pasteBinApi = \"f4R0OTFza_qTQ1NZJYLjoCeLqoHQux4X\"\r\n",
        "\r\n",
        "#Refer to the documentation at https://pastebin.com/doc_api for instructions on these parameters \r\n",
        "\r\n",
        "requestParams = {\r\n",
        "    'api_dev_key': pasteBinApi,\r\n",
        "    'api_option': 'paste',\r\n",
        "    'api_paste_code' : sentence,\r\n",
        "    'api_paste_name' : \"Mew is the Best Pokemon Ever!!!!!!\" ,\r\n",
        "}\r\n",
        "\r\n",
        "#This additional Method call will convert the Dictionary to a URL-Encoded string for PasteBin,\r\n",
        "#Include this string as the body of your call to the HTTPConnection.request() method for your pasteBin connection.\r\n",
        "\r\n",
        "requestBody = urllib.parse.urlencode(requestParams)\r\n",
        "\r\n",
        "pasteBinHeaders = {'Content-Type': 'application/x-www-form-urlencoded'}\r\n",
        "\r\n",
        "pasteBin_req = pasteBin.request('POST', '/api/api_post.php', requestBody, pasteBinHeaders) \r\n",
        "\r\n",
        "pasteBin_req_resp = pasteBin.getresponse()\r\n",
        "\r\n",
        "pasteBin_url = pasteBin_req_resp.read().decode()\r\n",
        "print(pasteBin_url)"
      ],
      "execution_count": 36,
      "outputs": [
        {
          "output_type": "stream",
          "text": [
            "https://pastebin.com/YV7SdRtm\n"
          ],
          "name": "stdout"
        }
      ]
    }
  ]
}